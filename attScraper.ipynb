{
  "nbformat": 4,
  "nbformat_minor": 0,
  "metadata": {
    "colab": {
      "name": "attScraper.ipynb",
      "provenance": [],
      "collapsed_sections": [],
      "include_colab_link": true
    },
    "kernelspec": {
      "name": "python3",
      "display_name": "Python 3"
    },
    "accelerator": "TPU"
  },
  "cells": [
    {
      "cell_type": "markdown",
      "metadata": {
        "id": "view-in-github",
        "colab_type": "text"
      },
      "source": [
        "<a href=\"https://colab.research.google.com/github/RyanSchw/hackohio/blob/master/attScraper.ipynb\" target=\"_parent\"><img src=\"https://colab.research.google.com/assets/colab-badge.svg\" alt=\"Open In Colab\"/></a>"
      ]
    },
    {
      "cell_type": "markdown",
      "metadata": {
        "id": "IChr-XDQN8MU",
        "colab_type": "text"
      },
      "source": [
        "# Video Speech to Text Scraper"
      ]
    },
    {
      "cell_type": "markdown",
      "metadata": {
        "id": "2W0m1upNQRt8",
        "colab_type": "text"
      },
      "source": [
        "### Module installs"
      ]
    },
    {
      "cell_type": "code",
      "metadata": {
        "id": "fxSfqcDrQV4W",
        "colab_type": "code",
        "outputId": "01a11a90-a766-4357-fa5f-7df3a77ff7b5",
        "colab": {
          "base_uri": "https://localhost:8080/",
          "height": 207
        }
      },
      "source": [
        "!pip install azure-cognitiveservices-speech\n",
        "!pip install youtube-dl"
      ],
      "execution_count": 0,
      "outputs": [
        {
          "output_type": "stream",
          "text": [
            "Collecting azure-cognitiveservices-speech\n",
            "\u001b[?25l  Downloading https://files.pythonhosted.org/packages/ef/2a/fbbf055da4a6e7ccad88b3c42cf89a7ad35896524dda2df69ff0e36b4d41/azure_cognitiveservices_speech-1.7.0-cp36-cp36m-manylinux1_x86_64.whl (2.3MB)\n",
            "\u001b[K     |████████████████████████████████| 2.3MB 3.5MB/s \n",
            "\u001b[?25hInstalling collected packages: azure-cognitiveservices-speech\n",
            "Successfully installed azure-cognitiveservices-speech-1.7.0\n",
            "Collecting youtube-dl\n",
            "\u001b[?25l  Downloading https://files.pythonhosted.org/packages/1f/36/c96973f8caef6a6986030954a1da304a11a67ba0fab19ce681eaff4502af/youtube_dl-2019.10.29-py2.py3-none-any.whl (1.8MB)\n",
            "\u001b[K     |████████████████████████████████| 1.8MB 3.5MB/s \n",
            "\u001b[?25hInstalling collected packages: youtube-dl\n",
            "Successfully installed youtube-dl-2019.10.29\n"
          ],
          "name": "stdout"
        }
      ]
    },
    {
      "cell_type": "code",
      "metadata": {
        "id": "viuBTrTyNiH-",
        "colab_type": "code",
        "colab": {}
      },
      "source": [
        "import time\n",
        "import wave\n",
        "import os\n",
        "import sys\n",
        "import subprocess\n",
        "import youtube_dl\n",
        "from google.colab import files"
      ],
      "execution_count": 0,
      "outputs": []
    },
    {
      "cell_type": "markdown",
      "metadata": {
        "id": "W_0tqijHOUtq",
        "colab_type": "text"
      },
      "source": [
        "### Azure cognitive speech import"
      ]
    },
    {
      "cell_type": "code",
      "metadata": {
        "id": "i0cwexnuOUKJ",
        "colab_type": "code",
        "colab": {}
      },
      "source": [
        "try:\n",
        "  import azure.cognitiveservices.speech as speechsdk\n",
        "except ImportError:\n",
        "  print(\"Error importing cognitive services!\")\n",
        "  sys.exit()\n",
        "\n",
        "speech_key, service_region = \"f277ee3eec6c425f9e317e34d0ec819a\", \"westus\""
      ],
      "execution_count": 0,
      "outputs": []
    },
    {
      "cell_type": "markdown",
      "metadata": {
        "id": "Xs_piDAOV6ay",
        "colab_type": "text"
      },
      "source": [
        "### Scrape individual video/playlist\n",
        "\n",
        "1. Download the video\n",
        "2. Open .mp3\n",
        "3. Load .mp3 into Azure cognitive\n",
        "4. Use Azure cognitive to run speech to text\n",
        "5. Return the text if we get something good"
      ]
    },
    {
      "cell_type": "code",
      "metadata": {
        "id": "qakJUf6rV6Jl",
        "colab_type": "code",
        "colab": {}
      },
      "source": [
        "def scrapeAll():\n",
        "    text = []\n",
        "    files = []\n",
        "    cwd = os.getcwd()\n",
        "    for f in os.listdir(cwd):\n",
        "      # for file in f:\n",
        "      #   print(file)\n",
        "      if '.wav' in f:\n",
        "        files.append(os.path.join(cwd, f))\n",
        "\n",
        "    for f in files:\n",
        "      speech_config = speechsdk.SpeechConfig(subscription=speech_key, region=service_region)\n",
        "      audio_config = speechsdk.audio.AudioConfig(filename=f)\n",
        "      speech_recognizer = speechsdk.SpeechRecognizer(speech_config=speech_config, audio_config=audio_config)\n",
        "      result = speech_recognizer.recognize_once()\n",
        "      print(result.text)\n",
        "      text.append(result.text)\n",
        "      \n",
        "    return text\n"
      ],
      "execution_count": 0,
      "outputs": []
    },
    {
      "cell_type": "code",
      "metadata": {
        "id": "VD-gG-Po4L_n",
        "colab_type": "code",
        "colab": {}
      },
      "source": [
        "def download(url):\n",
        "  ydl_opts = {\n",
        "    'format': 'bestaudio/best',\n",
        "    'outtmpl': \"%(title)s.%(ext)s\",\n",
        "    'ignoreerrors': True,\n",
        "    'nooverwrites': True,\n",
        "    'postprocessors': [\n",
        "        {'key': 'FFmpegExtractAudio','preferredcodec': 'wav',\n",
        "          'preferredquality': '192',\n",
        "        },\n",
        "        {'key': 'FFmpegMetadata'},\n",
        "    ],\n",
        "  }\n",
        "  try:\n",
        "    with youtube_dl.YoutubeDL(ydl_opts) as ydl:\n",
        "      info_dict = ydl.extract_info(url, download=True) \n",
        "  except:\n",
        "    print(\"Could not process one of the videos\")"
      ],
      "execution_count": 0,
      "outputs": []
    },
    {
      "cell_type": "markdown",
      "metadata": {
        "id": "4Z2Lcr7TQ2nZ",
        "colab_type": "text"
      },
      "source": [
        "### Full scrape handler"
      ]
    },
    {
      "cell_type": "code",
      "metadata": {
        "id": "oCWA8BLtO7Xe",
        "colab_type": "code",
        "outputId": "945ada14-5e19-447a-c751-fd5db38cabb2",
        "colab": {
          "base_uri": "https://localhost:8080/",
          "height": 765
        }
      },
      "source": [
        "urls = [\"https://www.youtube.com/watch?v=RWDFGArtTO0&list=PL7utVdMyVZWcb-rAGHTzVK5CB49y3idSh\"]\n",
        "textOut = []\n",
        "for url in urls:\n",
        "  print(\"Evaluating \" + url)\n",
        "  download(url)\n",
        "returnText = scrapeAll()"
      ],
      "execution_count": 46,
      "outputs": [
        {
          "output_type": "stream",
          "text": [
            "Evaluating https://www.youtube.com/watch?v=RWDFGArtTO0&list=PL7utVdMyVZWcb-rAGHTzVK5CB49y3idSh\n",
            "[youtube:playlist] Downloading playlist PL7utVdMyVZWcb-rAGHTzVK5CB49y3idSh - add --no-playlist to just download video RWDFGArtTO0\n",
            "[youtube:playlist] PL7utVdMyVZWcb-rAGHTzVK5CB49y3idSh: Downloading webpage\n",
            "[download] Downloading playlist: actually funny individual vines\n",
            "[youtube:playlist] PL7utVdMyVZWcb-rAGHTzVK5CB49y3idSh: Downloading page #1\n",
            "[youtube:playlist] playlist actually funny individual vines: Downloading 190 videos\n",
            "[download] Downloading video 1 of 190\n",
            "[youtube] RWDFGArtTO0: Downloading webpage\n"
          ],
          "name": "stdout"
        },
        {
          "output_type": "stream",
          "text": [
            "ERROR: Unable to download webpage: HTTP Error 429: Too Many Requests (caused by <HTTPError 429: 'Too Many Requests'>); please report this issue on https://yt-dl.org/bug . Make sure you are using the latest version; see  https://yt-dl.org/update  on how to update. Be sure to call youtube-dl with the --verbose flag and include its complete output.\n"
          ],
          "name": "stderr"
        },
        {
          "output_type": "stream",
          "text": [
            "Could not process one of the videos\n",
            "\n",
            "\n",
            "You'll Brenner.\n",
            "Some.\n",
            "It is Wednesday my dudes.\n",
            "\n",
            "\n",
            "There is only one thing worse than a rapist boom, a child no.\n",
            "Metro says, you hunger.\n",
            "And they were roommates my God, they were roommates.\n",
            "So I'm sitting there barbecue sauce on my *******\n",
            "\n",
            "\n",
            "That.\n",
            "I want to see my little boy here we go. I want to see my little boy.\n",
            "That is not correct because according to the encyclopedia.\n",
            "Is there anything better than pussey? Yes, a really good book?\n",
            "Close.\n",
            "Leopard on all levels, except physical I am a Wolf.\n",
            "Hi welcome to Chili's.\n",
            "Escape from the Microsoft online.\n",
            "This ostrich, thinks I'm a lady.\n",
            "Hawaii.\n",
            "78912.\n",
            "\n",
            "What Oh yes wait a minute Mister Post Man?\n",
            "You got this Travis make him wait for it.\n",
            "You better watch out, you better watch out, you better watch out, you better watch out, you better watch.\n",
            "OK, Little Chick in.\n",
            "Get to del Taco, they got a new thing called free freixa vaca do.\n",
            "I do that.\n"
          ],
          "name": "stdout"
        }
      ]
    },
    {
      "cell_type": "code",
      "metadata": {
        "id": "1yaqcRUpCOV6",
        "colab_type": "code",
        "colab": {}
      },
      "source": [
        "with open(\"output\", \"w+\") as fh:\n",
        "  for line in returnText:\n",
        "    fh.write(line + \"\\n\")\n",
        "try:\n",
        "  files.download(\"output\")\n",
        "except:\n",
        "  print(\"Could not download the output file\")"
      ],
      "execution_count": 0,
      "outputs": []
    }
  ]
}