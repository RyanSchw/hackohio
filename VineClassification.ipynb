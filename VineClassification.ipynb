{
  "nbformat": 4,
  "nbformat_minor": 0,
  "metadata": {
    "colab": {
      "name": "VineClassification.ipynb",
      "provenance": [],
      "collapsed_sections": [],
      "include_colab_link": true
    },
    "kernelspec": {
      "name": "python3",
      "display_name": "Python 3"
    },
    "accelerator": "GPU"
  },
  "cells": [
    {
      "cell_type": "markdown",
      "metadata": {
        "id": "view-in-github",
        "colab_type": "text"
      },
      "source": [
        "<a href=\"https://colab.research.google.com/github/RyanSchw/hackohio/blob/master/VineClassification.ipynb\" target=\"_parent\"><img src=\"https://colab.research.google.com/assets/colab-badge.svg\" alt=\"Open In Colab\"/></a>"
      ]
    },
    {
      "cell_type": "markdown",
      "metadata": {
        "id": "Id89n8n7P5Hz",
        "colab_type": "text"
      },
      "source": [
        "Tweet Classification\n",
        "Based on https://mc.ai/guide-to-text-classification-with-fastai/"
      ]
    },
    {
      "cell_type": "code",
      "metadata": {
        "id": "JVArL7jxP1jL",
        "colab_type": "code",
        "colab": {}
      },
      "source": [
        "import numpy as np \n",
        "import pandas as pd \n",
        "from pathlib import Path\n",
        "from fastai.text import *"
      ],
      "execution_count": 0,
      "outputs": []
    },
    {
      "cell_type": "code",
      "metadata": {
        "id": "id2EjpEwP-rX",
        "colab_type": "code",
        "outputId": "05b73af2-2d37-4e14-e47d-5c92bc41bc92",
        "colab": {
          "base_uri": "https://localhost:8080/",
          "height": 34
        }
      },
      "source": [
        "from google.colab import drive\n",
        "drive.mount('/content/gdrive')"
      ],
      "execution_count": 2,
      "outputs": [
        {
          "output_type": "stream",
          "text": [
            "Drive already mounted at /content/gdrive; to attempt to forcibly remount, call drive.mount(\"/content/gdrive\", force_remount=True).\n"
          ],
          "name": "stdout"
        }
      ]
    },
    {
      "cell_type": "code",
      "metadata": {
        "id": "nmikWamlQAku",
        "colab_type": "code",
        "colab": {}
      },
      "source": [
        "path=Path('/content/gdrive/My Drive/hackohio')"
      ],
      "execution_count": 0,
      "outputs": []
    },
    {
      "cell_type": "code",
      "metadata": {
        "id": "HSdm8gPgQ6Z_",
        "colab_type": "code",
        "colab": {}
      },
      "source": [
        "df = pd.read_csv(path/'vines.csv')\n",
        "df.columns = ['Vine_Energy', 'Quote']"
      ],
      "execution_count": 0,
      "outputs": []
    },
    {
      "cell_type": "markdown",
      "metadata": {
        "id": "E0OG1Q_6BChy",
        "colab_type": "text"
      },
      "source": [
        "Clean / lemmatize data"
      ]
    },
    {
      "cell_type": "code",
      "metadata": {
        "id": "GZR3gKhmTORC",
        "colab_type": "code",
        "colab": {}
      },
      "source": [
        "# Uncomment and download if necessary\n",
        "# import nltk\n",
        "# nltk.download('stopwords')\n",
        "# nltk.download('wordnet')\n",
        "# nltk.download('punkt')"
      ],
      "execution_count": 0,
      "outputs": []
    },
    {
      "cell_type": "code",
      "metadata": {
        "id": "bJBPpduDBEL_",
        "colab_type": "code",
        "colab": {
          "base_uri": "https://localhost:8080/",
          "height": 221
        },
        "outputId": "10454710-5e39-4236-c6bf-4e63eec40c89"
      },
      "source": [
        "from nltk.corpus import stopwords\n",
        "from nltk.stem import WordNetLemmatizer\n",
        "from nltk.tokenize import word_tokenize\n",
        "def sanitize_string(s):\n",
        "  # Remove punctuation\n",
        "  s = s.replace(r'[^\\w\\s]+', '')\n",
        "\n",
        "  # All lowercase\n",
        "  s = s.lower()\n",
        "\n",
        "  # Tokenize sentence (split up into words)\n",
        "  s = word_tokenize(s)\n",
        "\n",
        "  lemmatizer = WordNetLemmatizer()\n",
        "  stop = stopwords.words('english')\n",
        "  s = [lemmatizer.lemmatize(words) for words in s if words not in stop]\n",
        "\n",
        "  return s\n",
        "\n",
        "df['Quote'] = df['Quote'].apply(sanitize_string)\n",
        "\n",
        "# Reduce the 1 Vine Energy so the distribution so that everything isn't so messed up\n",
        "df = df[:-100]\n",
        "\n",
        "# Reduce bucket size for vine energy\n",
        "df['Vine_Energy'] = df['Vine_Energy'].div(4).apply(np.floor).add(1).astype('int')"
      ],
      "execution_count": 110,
      "outputs": [
        {
          "output_type": "stream",
          "text": [
            "0               [get, waffle, ?, please, get, waffle, ?]\n",
            "1      [liam, neeson, ,, liam, neeson, 's, knee, son,...\n",
            "2                    [die, either, kill, get, killed, .]\n",
            "3                                       [yes, ,, see, .]\n",
            "4                                    [siri, 's, name, .]\n",
            "                             ...                        \n",
            "572                  [change, thought, change, world, .]\n",
            "573    [either, write, something, worth, reading, som...\n",
            "574    [nothing, impossible, ,, word, say, ,, “, ’, p...\n",
            "575                          [way, great, work, love, .]\n",
            "576                               [dream, ,, achieve, .]\n",
            "Name: Quote, Length: 577, dtype: object\n"
          ],
          "name": "stdout"
        }
      ]
    },
    {
      "cell_type": "markdown",
      "metadata": {
        "id": "pdHcE5o0oo85",
        "colab_type": "text"
      },
      "source": [
        "Here's some fun facts about the data"
      ]
    },
    {
      "cell_type": "code",
      "metadata": {
        "id": "7DgxdYbroq5n",
        "colab_type": "code",
        "colab": {
          "base_uri": "https://localhost:8080/",
          "height": 265
        },
        "outputId": "74f92020-d97e-4f80-fd6c-4473c137f731"
      },
      "source": [
        "import matplotlib.pyplot as plt\n",
        "# Find the frequency of each rating and graph\n",
        "number_of_ratings = 3\n",
        "\n",
        "plt.hist(df.loc[1:, 'Vine_Energy'], bins=number_of_ratings)\n",
        "plt.show()"
      ],
      "execution_count": 111,
      "outputs": [
        {
          "output_type": "display_data",
          "data": {
            "image/png": "[encoded data removed]",
            "text/plain": [
              "<Figure size 432x288 with 1 Axes>"
            ]
          },
          "metadata": {
            "tags": []
          }
        }
      ]
    },
    {
      "cell_type": "markdown",
      "metadata": {
        "id": "Lhj435XycbaX",
        "colab_type": "text"
      },
      "source": [
        "Split data into training/testing"
      ]
    },
    {
      "cell_type": "code",
      "metadata": {
        "id": "tSXSwtkERBQn",
        "colab_type": "code",
        "colab": {}
      },
      "source": [
        "validation_split = 8 / 10\n",
        "df = df.iloc[np.random.permutation(len(df))]\n",
        "cut1 = int(validation_split * len(df)) + 1\n",
        "df_train, df_valid = df[:cut1], df[cut1:]\n",
        "# df_train.columns = ['Vine_Energy', 'Quote']\n",
        "# df_valid.columns = ['Vine_Energy', 'Quote']"
      ],
      "execution_count": 0,
      "outputs": []
    },
    {
      "cell_type": "markdown",
      "metadata": {
        "id": "HOXjOfkgV8qh",
        "colab_type": "text"
      },
      "source": [
        "Distribution of training data to validation data"
      ]
    },
    {
      "cell_type": "code",
      "metadata": {
        "id": "wFBSEyQPWADS",
        "colab_type": "code",
        "colab": {
          "base_uri": "https://localhost:8080/",
          "height": 298
        },
        "outputId": "9b91a873-23a2-48f0-ce49-f05909ab52f0"
      },
      "source": [
        "frequencies = [[0]*number_of_ratings, [0]*number_of_ratings]\n",
        "for i, j in df_train.iterrows():\n",
        "  frequencies[0][j['Vine_Energy']-1] += 1\n",
        "\n",
        "for i, j in df_valid.iterrows():\n",
        "  frequencies[1][j['Vine_Energy']-1] += 1\n",
        "\n",
        "\n",
        "frequencies[0] = [x / sum(frequencies[0]) for x in frequencies[0]]\n",
        "frequencies[1] = [x / sum(frequencies[1]) for x in frequencies[1]]\n",
        "plt.plot(range(number_of_ratings), frequencies[0], label='df_train')\n",
        "plt.plot(range(number_of_ratings), frequencies[1], label='df_valid')\n",
        "plt.legend()\n",
        "plt.ylim(0, 1)\n",
        "plt.title('Distribution of training data to validattion data based on score')"
      ],
      "execution_count": 122,
      "outputs": [
        {
          "output_type": "execute_result",
          "data": {
            "text/plain": [
              "Text(0.5, 1.0, 'Distribution of training data to validattion data based on score')"
            ]
          },
          "metadata": {
            "tags": []
          },
          "execution_count": 122
        },
        {
          "output_type": "display_data",
          "data": {
            "image/png": "[encoded data removed]",
            "text/plain": [
              "<Figure size 432x288 with 1 Axes>"
            ]
          },
          "metadata": {
            "tags": []
          }
        }
      ]
    },
    {
      "cell_type": "code",
      "metadata": {
        "id": "zOf0ma2sSWNx",
        "colab_type": "code",
        "colab": {}
      },
      "source": [
        "data_lm = TextLMDataBunch.from_df(path=path,\n",
        " train_df=df_train,\n",
        " valid_df=df_valid, \n",
        " label_cols='Vine_Energy',\n",
        " text_cols='Quote')"
      ],
      "execution_count": 0,
      "outputs": []
    },
    {
      "cell_type": "code",
      "metadata": {
        "id": "5Ra_W0tlSrLk",
        "colab_type": "code",
        "colab": {}
      },
      "source": [
        "# data_lm.save(path, 'lm_databunch.pkl')\n",
        "# data_lm.load('lm_databunch.pkl')"
      ],
      "execution_count": 0,
      "outputs": []
    },
    {
      "cell_type": "markdown",
      "metadata": {
        "id": "FtAExEmoWn2M",
        "colab_type": "text"
      },
      "source": [
        "Create the language model"
      ]
    },
    {
      "cell_type": "code",
      "metadata": {
        "id": "ck5QbE_GWqFe",
        "colab_type": "code",
        "colab": {}
      },
      "source": [
        "lm = language_model_learner(data_lm, AWD_LSTM, drop_mult=0.3)"
      ],
      "execution_count": 0,
      "outputs": []
    },
    {
      "cell_type": "code",
      "metadata": {
        "id": "yiyuWrBnWvmJ",
        "colab_type": "code",
        "colab": {}
      },
      "source": [
        "lm.save_encoder(path/'fine-tuned_encoder.pth')"
      ],
      "execution_count": 0,
      "outputs": []
    },
    {
      "cell_type": "markdown",
      "metadata": {
        "id": "kDqxfa_YW4K7",
        "colab_type": "text"
      },
      "source": [
        "Create the classifier model"
      ]
    },
    {
      "cell_type": "code",
      "metadata": {
        "id": "kFPfV9bTW3qb",
        "colab_type": "code",
        "colab": {
          "base_uri": "https://localhost:8080/",
          "height": 1000
        },
        "outputId": "96452fed-ecd1-4a12-b27d-de262a58e08c"
      },
      "source": [
        "data_clas=TextClasDataBunch.from_df(path=path,train_df=df_train, valid_df=df_valid, vocab=data_lm.train_ds.vocab, label_cols='Vine_Energy', text_cols='Quote')\n",
        "clas = text_classifier_learner(data_clas,AWD_LSTM,drop_mult=0.3)\n",
        "clas.load_encoder(path/'fine-tuned_encoder.pth')"
      ],
      "execution_count": 127,
      "outputs": [
        {
          "output_type": "execute_result",
          "data": {
            "text/plain": [
              "RNNLearner(data=TextClasDataBunch;\n",
              "\n",
              "Train: LabelList (382 items)\n",
              "x: TextList\n",
              "xxbos [ ' better ' , ' watch ' , ' , ' , ' better ' , ' watch ' , ' , ' , ' better ' , ' watch ' , ' , ' , ' better ' , ' watch ' , ' , ' , ' better ' , ' watch ' , ' . ' ],xxbos [ ' stand ' , ' god ' , ' end ' , ' life ' , ' , ' , ' would ' , ' hope ' , ' would ' , ' xxunk ' , ' xxunk ' , ' xxunk ' , ' xxunk ' , ' could ' , ' say ' , ' , ' , ' xxunk ' , ' everything ' , ' gave ' , ' . ' ],xxbos [ ' know ' , ' , ' , \" ' m \" , ' say ' , ' , ' , \" n't \" , ' xxunk ' , ' xxunk ' , ' xxunk ' ],xxbos [ ' kid ' , ' want ' , ' blade ' , ' , ' , ' blade ' , ' xxunk ' , ' xxunk ' , ' kind ' , ' xxunk ' , ' . ' ],xxbos [ ' water ' , ' xxunk ' , ' day ' , ' crocs ' , ' . ' ]\n",
              "y: CategoryList\n",
              "3,1,3,1,1\n",
              "Path: /content/gdrive/My Drive/hackohio;\n",
              "\n",
              "Valid: LabelList (95 items)\n",
              "x: TextList\n",
              "xxbos [ ' two ' , ' xxunk ' , ' day ' , ' life ' , ' day ' , ' xxunk ' , ' day ' , ' xxunk ' , ' . ' ],xxbos [ ' anything ' , ' better ' , ' pussy ' , ' ? ' , ' yes ' , ' , ' , ' really ' , ' good ' , ' book ' , ' . ' ],xxbos [ ' xxunk ' , ' thing ' , ' xxunk ' , ' eye ' , ' , ' , ' xxunk ' , ' xxunk ' , ' xxunk ' , ' . ' ],xxbos [ ' xxunk ' , ' xxunk ' , ' , ' , ' back ' , ' xxunk ' , ' xxunk ' , ' . ' ],xxbos [ ' want ' , ' yo ' , ' yo ' , ' man ' , ' , ' , ' cried ' , ' . ' , ' make ' , ' yo ' , ' yo ' , ' man ' , ' . ' , ' yo ' , ' yo ' , ' master ' , ' answer ' , ' kept ' , ' yo ' , ' xxunk ' , ' . ' ]\n",
              "y: CategoryList\n",
              "1,3,1,2,3\n",
              "Path: /content/gdrive/My Drive/hackohio;\n",
              "\n",
              "Test: None, model=SequentialRNN(\n",
              "  (0): MultiBatchEncoder(\n",
              "    (module): AWD_LSTM(\n",
              "      (encoder): Embedding(456, 400, padding_idx=1)\n",
              "      (encoder_dp): EmbeddingDropout(\n",
              "        (emb): Embedding(456, 400, padding_idx=1)\n",
              "      )\n",
              "      (rnns): ModuleList(\n",
              "        (0): WeightDropout(\n",
              "          (module): LSTM(400, 1152, batch_first=True)\n",
              "        )\n",
              "        (1): WeightDropout(\n",
              "          (module): LSTM(1152, 1152, batch_first=True)\n",
              "        )\n",
              "        (2): WeightDropout(\n",
              "          (module): LSTM(1152, 400, batch_first=True)\n",
              "        )\n",
              "      )\n",
              "      (input_dp): RNNDropout()\n",
              "      (hidden_dps): ModuleList(\n",
              "        (0): RNNDropout()\n",
              "        (1): RNNDropout()\n",
              "        (2): RNNDropout()\n",
              "      )\n",
              "    )\n",
              "  )\n",
              "  (1): PoolingLinearClassifier(\n",
              "    (layers): Sequential(\n",
              "      (0): BatchNorm1d(1200, eps=1e-05, momentum=0.1, affine=True, track_running_stats=True)\n",
              "      (1): Dropout(p=0.12, inplace=False)\n",
              "      (2): Linear(in_features=1200, out_features=50, bias=True)\n",
              "      (3): ReLU(inplace=True)\n",
              "      (4): BatchNorm1d(50, eps=1e-05, momentum=0.1, affine=True, track_running_stats=True)\n",
              "      (5): Dropout(p=0.1, inplace=False)\n",
              "      (6): Linear(in_features=50, out_features=3, bias=True)\n",
              "    )\n",
              "  )\n",
              "), opt_func=functools.partial(<class 'torch.optim.adam.Adam'>, betas=(0.9, 0.99)), loss_func=FlattenedLoss of CrossEntropyLoss(), metrics=[<function accuracy at 0x7f37651cea60>], true_wd=True, bn_wd=True, wd=0.01, train_bn=True, path=PosixPath('/content/gdrive/My Drive/hackohio'), model_dir='models', callback_fns=[functools.partial(<class 'fastai.basic_train.Recorder'>, add_time=True, silent=False)], callbacks=[RNNTrainer\n",
              "learn: RNNLearner(data=TextClasDataBunch;\n",
              "\n",
              "Train: LabelList (382 items)\n",
              "x: TextList\n",
              "xxbos [ ' better ' , ' watch ' , ' , ' , ' better ' , ' watch ' , ' , ' , ' better ' , ' watch ' , ' , ' , ' better ' , ' watch ' , ' , ' , ' better ' , ' watch ' , ' . ' ],xxbos [ ' stand ' , ' god ' , ' end ' , ' life ' , ' , ' , ' would ' , ' hope ' , ' would ' , ' xxunk ' , ' xxunk ' , ' xxunk ' , ' xxunk ' , ' could ' , ' say ' , ' , ' , ' xxunk ' , ' everything ' , ' gave ' , ' . ' ],xxbos [ ' know ' , ' , ' , \" ' m \" , ' say ' , ' , ' , \" n't \" , ' xxunk ' , ' xxunk ' , ' xxunk ' ],xxbos [ ' kid ' , ' want ' , ' blade ' , ' , ' , ' blade ' , ' xxunk ' , ' xxunk ' , ' kind ' , ' xxunk ' , ' . ' ],xxbos [ ' water ' , ' xxunk ' , ' day ' , ' crocs ' , ' . ' ]\n",
              "y: CategoryList\n",
              "3,1,3,1,1\n",
              "Path: /content/gdrive/My Drive/hackohio;\n",
              "\n",
              "Valid: LabelList (95 items)\n",
              "x: TextList\n",
              "xxbos [ ' two ' , ' xxunk ' , ' day ' , ' life ' , ' day ' , ' xxunk ' , ' day ' , ' xxunk ' , ' . ' ],xxbos [ ' anything ' , ' better ' , ' pussy ' , ' ? ' , ' yes ' , ' , ' , ' really ' , ' good ' , ' book ' , ' . ' ],xxbos [ ' xxunk ' , ' thing ' , ' xxunk ' , ' eye ' , ' , ' , ' xxunk ' , ' xxunk ' , ' xxunk ' , ' . ' ],xxbos [ ' xxunk ' , ' xxunk ' , ' , ' , ' back ' , ' xxunk ' , ' xxunk ' , ' . ' ],xxbos [ ' want ' , ' yo ' , ' yo ' , ' man ' , ' , ' , ' cried ' , ' . ' , ' make ' , ' yo ' , ' yo ' , ' man ' , ' . ' , ' yo ' , ' yo ' , ' master ' , ' answer ' , ' kept ' , ' yo ' , ' xxunk ' , ' . ' ]\n",
              "y: CategoryList\n",
              "1,3,1,2,3\n",
              "Path: /content/gdrive/My Drive/hackohio;\n",
              "\n",
              "Test: None, model=SequentialRNN(\n",
              "  (0): MultiBatchEncoder(\n",
              "    (module): AWD_LSTM(\n",
              "      (encoder): Embedding(456, 400, padding_idx=1)\n",
              "      (encoder_dp): EmbeddingDropout(\n",
              "        (emb): Embedding(456, 400, padding_idx=1)\n",
              "      )\n",
              "      (rnns): ModuleList(\n",
              "        (0): WeightDropout(\n",
              "          (module): LSTM(400, 1152, batch_first=True)\n",
              "        )\n",
              "        (1): WeightDropout(\n",
              "          (module): LSTM(1152, 1152, batch_first=True)\n",
              "        )\n",
              "        (2): WeightDropout(\n",
              "          (module): LSTM(1152, 400, batch_first=True)\n",
              "        )\n",
              "      )\n",
              "      (input_dp): RNNDropout()\n",
              "      (hidden_dps): ModuleList(\n",
              "        (0): RNNDropout()\n",
              "        (1): RNNDropout()\n",
              "        (2): RNNDropout()\n",
              "      )\n",
              "    )\n",
              "  )\n",
              "  (1): PoolingLinearClassifier(\n",
              "    (layers): Sequential(\n",
              "      (0): BatchNorm1d(1200, eps=1e-05, momentum=0.1, affine=True, track_running_stats=True)\n",
              "      (1): Dropout(p=0.12, inplace=False)\n",
              "      (2): Linear(in_features=1200, out_features=50, bias=True)\n",
              "      (3): ReLU(inplace=True)\n",
              "      (4): BatchNorm1d(50, eps=1e-05, momentum=0.1, affine=True, track_running_stats=True)\n",
              "      (5): Dropout(p=0.1, inplace=False)\n",
              "      (6): Linear(in_features=50, out_features=3, bias=True)\n",
              "    )\n",
              "  )\n",
              "), opt_func=functools.partial(<class 'torch.optim.adam.Adam'>, betas=(0.9, 0.99)), loss_func=FlattenedLoss of CrossEntropyLoss(), metrics=[<function accuracy at 0x7f37651cea60>], true_wd=True, bn_wd=True, wd=0.01, train_bn=True, path=PosixPath('/content/gdrive/My Drive/hackohio'), model_dir='models', callback_fns=[functools.partial(<class 'fastai.basic_train.Recorder'>, add_time=True, silent=False)], callbacks=[...], layer_groups=[Sequential(\n",
              "  (0): Embedding(456, 400, padding_idx=1)\n",
              "  (1): EmbeddingDropout(\n",
              "    (emb): Embedding(456, 400, padding_idx=1)\n",
              "  )\n",
              "), Sequential(\n",
              "  (0): WeightDropout(\n",
              "    (module): LSTM(400, 1152, batch_first=True)\n",
              "  )\n",
              "  (1): RNNDropout()\n",
              "), Sequential(\n",
              "  (0): WeightDropout(\n",
              "    (module): LSTM(1152, 1152, batch_first=True)\n",
              "  )\n",
              "  (1): RNNDropout()\n",
              "), Sequential(\n",
              "  (0): WeightDropout(\n",
              "    (module): LSTM(1152, 400, batch_first=True)\n",
              "  )\n",
              "  (1): RNNDropout()\n",
              "), Sequential(\n",
              "  (0): PoolingLinearClassifier(\n",
              "    (layers): Sequential(\n",
              "      (0): BatchNorm1d(1200, eps=1e-05, momentum=0.1, affine=True, track_running_stats=True)\n",
              "      (1): Dropout(p=0.12, inplace=False)\n",
              "      (2): Linear(in_features=1200, out_features=50, bias=True)\n",
              "      (3): ReLU(inplace=True)\n",
              "      (4): BatchNorm1d(50, eps=1e-05, momentum=0.1, affine=True, track_running_stats=True)\n",
              "      (5): Dropout(p=0.1, inplace=False)\n",
              "      (6): Linear(in_features=50, out_features=3, bias=True)\n",
              "    )\n",
              "  )\n",
              ")], add_time=True, silent=False)\n",
              "alpha: 2.0\n",
              "beta: 1.0], layer_groups=[Sequential(\n",
              "  (0): Embedding(456, 400, padding_idx=1)\n",
              "  (1): EmbeddingDropout(\n",
              "    (emb): Embedding(456, 400, padding_idx=1)\n",
              "  )\n",
              "), Sequential(\n",
              "  (0): WeightDropout(\n",
              "    (module): LSTM(400, 1152, batch_first=True)\n",
              "  )\n",
              "  (1): RNNDropout()\n",
              "), Sequential(\n",
              "  (0): WeightDropout(\n",
              "    (module): LSTM(1152, 1152, batch_first=True)\n",
              "  )\n",
              "  (1): RNNDropout()\n",
              "), Sequential(\n",
              "  (0): WeightDropout(\n",
              "    (module): LSTM(1152, 400, batch_first=True)\n",
              "  )\n",
              "  (1): RNNDropout()\n",
              "), Sequential(\n",
              "  (0): PoolingLinearClassifier(\n",
              "    (layers): Sequential(\n",
              "      (0): BatchNorm1d(1200, eps=1e-05, momentum=0.1, affine=True, track_running_stats=True)\n",
              "      (1): Dropout(p=0.12, inplace=False)\n",
              "      (2): Linear(in_features=1200, out_features=50, bias=True)\n",
              "      (3): ReLU(inplace=True)\n",
              "      (4): BatchNorm1d(50, eps=1e-05, momentum=0.1, affine=True, track_running_stats=True)\n",
              "      (5): Dropout(p=0.1, inplace=False)\n",
              "      (6): Linear(in_features=50, out_features=3, bias=True)\n",
              "    )\n",
              "  )\n",
              ")], add_time=True, silent=False)"
            ]
          },
          "metadata": {
            "tags": []
          },
          "execution_count": 127
        }
      ]
    },
    {
      "cell_type": "code",
      "metadata": {
        "id": "2jlXHTNahO-V",
        "colab_type": "code",
        "colab": {
          "base_uri": "https://localhost:8080/",
          "height": 330
        },
        "outputId": "bce8ed8c-590c-4a27-aa20-460bdd896798"
      },
      "source": [
        "clas.lr_find()\n",
        "clas.recorder.plot(suggestion=True)"
      ],
      "execution_count": 128,
      "outputs": [
        {
          "output_type": "display_data",
          "data": {
            "text/html": [
              ""
            ],
            "text/plain": [
              "<IPython.core.display.HTML object>"
            ]
          },
          "metadata": {
            "tags": []
          }
        },
        {
          "output_type": "stream",
          "text": [
            "LR Finder is complete, type {learner_name}.recorder.plot() to see the graph.\n",
            "Min numerical gradient: 1.10E-06\n",
            "Min loss divided by 10: 1.45E-02\n"
          ],
          "name": "stdout"
        },
        {
          "output_type": "display_data",
          "data": {
            "image/png": "[encoded data removed]",
            "text/plain": [
              "<Figure size 432x288 with 1 Axes>"
            ]
          },
          "metadata": {
            "tags": []
          }
        }
      ]
    },
    {
      "cell_type": "code",
      "metadata": {
        "id": "8nUv7xljinGr",
        "colab_type": "code",
        "colab": {
          "base_uri": "https://localhost:8080/",
          "height": 80
        },
        "outputId": "52b09236-5075-4a2a-b52c-f2a9f678d1ed"
      },
      "source": [
        "# Fit one cycle based on the plot\n",
        "# clas.fit_one_cycle(1, 3.63e-02, moms=(0.8,0.7))\n",
        "clas.fit_one_cycle(1, 1.45e-02, moms=(0.8,0.7))"
      ],
      "execution_count": 129,
      "outputs": [
        {
          "output_type": "display_data",
          "data": {
            "text/html": [
              "<table border=\"1\" class=\"dataframe\">\n",
              "  <thead>\n",
              "    <tr style=\"text-align: left;\">\n",
              "      <th>epoch</th>\n",
              "      <th>train_loss</th>\n",
              "      <th>valid_loss</th>\n",
              "      <th>accuracy</th>\n",
              "      <th>time</th>\n",
              "    </tr>\n",
              "  </thead>\n",
              "  <tbody>\n",
              "    <tr>\n",
              "      <td>0</td>\n",
              "      <td>1.308767</td>\n",
              "      <td>1.084773</td>\n",
              "      <td>0.442105</td>\n",
              "      <td>00:01</td>\n",
              "    </tr>\n",
              "  </tbody>\n",
              "</table>"
            ],
            "text/plain": [
              "<IPython.core.display.HTML object>"
            ]
          },
          "metadata": {
            "tags": []
          }
        }
      ]
    },
    {
      "cell_type": "code",
      "metadata": {
        "id": "HWJgzzdo8rOG",
        "colab_type": "code",
        "colab": {
          "base_uri": "https://localhost:8080/",
          "height": 34
        },
        "outputId": "0d2a6499-375b-4461-a18a-90d300908c09"
      },
      "source": [
        "data = clas.predict(sanitize_string('ok boomer'))\n",
        "data"
      ],
      "execution_count": 140,
      "outputs": [
        {
          "output_type": "execute_result",
          "data": {
            "text/plain": [
              "(Category 3, tensor(2), tensor([0.2900, 0.2666, 0.4434]))"
            ]
          },
          "metadata": {
            "tags": []
          },
          "execution_count": 140
        }
      ]
    },
    {
      "cell_type": "code",
      "metadata": {
        "id": "cWVxw-8b8uaY",
        "colab_type": "code",
        "colab": {
          "base_uri": "https://localhost:8080/",
          "height": 34
        },
        "outputId": "cb32ec61-7514-4d2c-b128-a6b46b0db996"
      },
      "source": [
        "max(data[2]) - min(data[2])"
      ],
      "execution_count": 42,
      "outputs": [
        {
          "output_type": "execute_result",
          "data": {
            "text/plain": [
              "tensor(0.0283)"
            ]
          },
          "metadata": {
            "tags": []
          },
          "execution_count": 42
        }
      ]
    },
    {
      "cell_type": "code",
      "metadata": {
        "id": "E0S2M7jP9vCJ",
        "colab_type": "code",
        "colab": {}
      },
      "source": [
        "clas.export(path/'vine_energy_pt2.pkl')"
      ],
      "execution_count": 0,
      "outputs": []
    }
  ]
}