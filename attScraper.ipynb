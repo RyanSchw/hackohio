{
  "nbformat": 4,
  "nbformat_minor": 0,
  "metadata": {
    "colab": {
      "name": "attScraper.ipynb",
      "provenance": [],
      "collapsed_sections": []
    },
    "kernelspec": {
      "name": "python3",
      "display_name": "Python 3"
    },
    "accelerator": "TPU"
  },
  "cells": [
    {
      "cell_type": "markdown",
      "metadata": {
        "id": "IChr-XDQN8MU",
        "colab_type": "text"
      },
      "source": [
        "# Video Speech to Text Scraper"
      ]
    },
    {
      "cell_type": "markdown",
      "metadata": {
        "id": "2W0m1upNQRt8",
        "colab_type": "text"
      },
      "source": [
        "### Module installs"
      ]
    },
    {
      "cell_type": "code",
      "metadata": {
        "id": "fxSfqcDrQV4W",
        "colab_type": "code",
        "outputId": "f3ba64bb-3dc4-4d5c-e339-26bacbe2aa6d",
        "colab": {
          "base_uri": "https://localhost:8080/",
          "height": 52
        }
      },
      "source": [
        "  !pip install azure-cognitiveservices-speech\n",
        "  !pip install youtube-dl"
      ],
      "execution_count": 188,
      "outputs": [
        {
          "output_type": "stream",
          "text": [
            "Requirement already satisfied: azure-cognitiveservices-speech in /usr/local/lib/python3.6/dist-packages (1.7.0)\n",
            "Requirement already satisfied: youtube-dl in /usr/local/lib/python3.6/dist-packages (2019.10.29)\n"
          ],
          "name": "stdout"
        }
      ]
    },
    {
      "cell_type": "code",
      "metadata": {
        "id": "viuBTrTyNiH-",
        "colab_type": "code",
        "colab": {}
      },
      "source": [
        "import time\n",
        "import wave\n",
        "import os\n",
        "import sys\n",
        "import subprocess\n",
        "import youtube_dl\n",
        "from google.colab import files"
      ],
      "execution_count": 0,
      "outputs": []
    },
    {
      "cell_type": "markdown",
      "metadata": {
        "id": "W_0tqijHOUtq",
        "colab_type": "text"
      },
      "source": [
        "### Azure cognitive speech import"
      ]
    },
    {
      "cell_type": "code",
      "metadata": {
        "id": "i0cwexnuOUKJ",
        "colab_type": "code",
        "colab": {}
      },
      "source": [
        "try:\n",
        "  import azure.cognitiveservices.speech as speechsdk\n",
        "except ImportError:\n",
        "  print(\"Error importing cognitive services!\")\n",
        "  sys.exit()\n",
        "\n",
        "speech_key, service_region = \"f277ee3eec6c425f9e317e34d0ec819a\", \"westus\""
      ],
      "execution_count": 0,
      "outputs": []
    },
    {
      "cell_type": "markdown",
      "metadata": {
        "id": "Xs_piDAOV6ay",
        "colab_type": "text"
      },
      "source": [
        "### Scrape individual video/playlist\n",
        "\n",
        "1. Download the video\n",
        "2. Open .mp3\n",
        "3. Load .mp3 into Azure cognitive\n",
        "4. Use Azure cognitive to run speech to text\n",
        "5. Return the text if we get something good"
      ]
    },
    {
      "cell_type": "code",
      "metadata": {
        "id": "qakJUf6rV6Jl",
        "colab_type": "code",
        "colab": {}
      },
      "source": [
        "def scrapeAll():\n",
        "    text = []\n",
        "    files = []\n",
        "    cwd = os.getcwd()\n",
        "    for f in os.listdir(cwd):\n",
        "      # for file in f:\n",
        "      #   print(file)\n",
        "      if '.wav' in f:\n",
        "        files.append(os.path.join(cwd, f))\n",
        "\n",
        "    for f in files:\n",
        "      speech_config = speechsdk.SpeechConfig(subscription=speech_key, region=service_region)\n",
        "      audio_config = speechsdk.audio.AudioConfig(filename=f)\n",
        "      speech_recognizer = speechsdk.SpeechRecognizer(speech_config=speech_config, audio_config=audio_config)\n",
        "      result = speech_recognizer.recognize_once()\n",
        "      print(result.text)\n",
        "      text.append(result.text)\n",
        "      \n",
        "    return text\n"
      ],
      "execution_count": 0,
      "outputs": []
    },
    {
      "cell_type": "code",
      "metadata": {
        "id": "VD-gG-Po4L_n",
        "colab_type": "code",
        "colab": {}
      },
      "source": [
        "def download(url):\n",
        "  ydl_opts = {\n",
        "    'format': 'bestaudio/best',\n",
        "    'outtmpl': \"%(title)s.%(ext)s\",\n",
        "    'postprocessors': [\n",
        "        {'key': 'FFmpegExtractAudio','preferredcodec': 'wav',\n",
        "          'preferredquality': '192',\n",
        "        },\n",
        "        {'key': 'FFmpegMetadata'},\n",
        "    ],\n",
        "  }\n",
        "  try:\n",
        "    with youtube_dl.YoutubeDL(ydl_opts) as ydl:\n",
        "      info_dict = ydl.extract_info(url, download=True) \n",
        "  except:\n",
        "    pass"
      ],
      "execution_count": 0,
      "outputs": []
    },
    {
      "cell_type": "markdown",
      "metadata": {
        "id": "4Z2Lcr7TQ2nZ",
        "colab_type": "text"
      },
      "source": [
        "### Full scrape handler"
      ]
    },
    {
      "cell_type": "code",
      "metadata": {
        "id": "oCWA8BLtO7Xe",
        "colab_type": "code",
        "outputId": "aa0bc9bf-f4bc-4724-e9a1-bfacb8cf750d",
        "colab": {
          "base_uri": "https://localhost:8080/",
          "height": 1000
        }
      },
      "source": [
        "urls = [\"https://www.youtube.com/watch?v=guMisvFyRVw\", \"https://www.youtube.com/watch?v=_2bGG4m6rmg&list=PLC9vDYvT55lRAlSLM5fX2M14Gb_VMtCM_&index=173\"]\n",
        "textOut = []\n",
        "for url in urls:\n",
        "  print(\"Evaluating \" + url)\n",
        "  ret = download(url)\n",
        "  # No direct append to handle the none case\n",
        "  if ret != None:\n",
        "    textOut.append(ret)\n",
        "    print(\"Returned: \" + textOut[textOut.len()])\n",
        "returnText = scrapeAll()\n",
        "with open(\"drive/output\", \"w+\") as fh:\n",
        "  for line in returnText:\n",
        "    fh.write(line + \"\\n\")\n",
        "try:\n",
        "  files.download(\"output\")\n",
        "except:\n",
        "  print(\"Could not download the output file\")"
      ],
      "execution_count": 194,
      "outputs": [
        {
          "output_type": "stream",
          "text": [
            "\n",
            "\n",
            "You'll Brenner.\n",
            "Uh-huh.\n",
            "Some.\n",
            "It is Wednesday my dudes.\n",
            "\n",
            "\n",
            "There is only one thing worse than a rapist boom, a child no.\n",
            "Metro says, you hunger.\n",
            "And they were roommates my God, they were roommates.\n",
            "So I'm sitting there barbecue sauce on my *******\n",
            "It's me, Jesse RV.\n",
            "\n",
            "\n",
            "\n",
            "That.\n",
            "I want to see my little boy here we go. I want to see my little boy.\n",
            "That is not correct because according to the encyclopedia.\n",
            "Is there anything better than pussey? Yes, a really good book?\n",
            "Close.\n",
            "Happy birthday baby.\n",
            "Leopard on all levels, except physical I am a Wolf.\n",
            "Hi welcome to Chili's.\n",
            "Escape from the Microsoft online.\n",
            "You're a wizard Harry.\n",
            "This ostrich, thinks I'm a lady.\n",
            "Hurricane Katrina more like hurricane.\n",
            "Hawaii.\n",
            "Jesse.\n",
            "So I'm sitting there barbecue sauce on my *******\n",
            "78912.\n",
            "My poop in my bed.\n",
            "\n",
            "What Oh yes wait a minute Mister Post Man?\n",
            "You got this Travis make him wait for it.\n",
            "You better watch out, you better watch out, you better watch out, you better watch out, you better watch.\n",
            "OK, Little Chick in.\n",
            "\n",
            "What did you do? Did you do that I don't know.\n",
            "Get to del Taco, they got a new thing called free freixa vaca do.\n",
            "I do that.\n"
          ],
          "name": "stdout"
        },
        {
          "output_type": "error",
          "ename": "MessageError",
          "evalue": "ignored",
          "traceback": [
            "\u001b[0;31m---------------------------------------------------------------------------\u001b[0m",
            "\u001b[0;31mMessageError\u001b[0m                              Traceback (most recent call last)",
            "\u001b[0;32m<ipython-input-194-0620097361eb>\u001b[0m in \u001b[0;36m<module>\u001b[0;34m()\u001b[0m\n\u001b[1;32m     12\u001b[0m   \u001b[0;32mfor\u001b[0m \u001b[0mline\u001b[0m \u001b[0;32min\u001b[0m \u001b[0mreturnText\u001b[0m\u001b[0;34m:\u001b[0m\u001b[0;34m\u001b[0m\u001b[0;34m\u001b[0m\u001b[0m\n\u001b[1;32m     13\u001b[0m     \u001b[0mfh\u001b[0m\u001b[0;34m.\u001b[0m\u001b[0mwrite\u001b[0m\u001b[0;34m(\u001b[0m\u001b[0mline\u001b[0m \u001b[0;34m+\u001b[0m \u001b[0;34m\"\\n\"\u001b[0m\u001b[0;34m)\u001b[0m\u001b[0;34m\u001b[0m\u001b[0;34m\u001b[0m\u001b[0m\n\u001b[0;32m---> 14\u001b[0;31m \u001b[0mfiles\u001b[0m\u001b[0;34m.\u001b[0m\u001b[0mdownload\u001b[0m\u001b[0;34m(\u001b[0m\u001b[0;34m\"output\"\u001b[0m\u001b[0;34m)\u001b[0m\u001b[0;34m\u001b[0m\u001b[0;34m\u001b[0m\u001b[0m\n\u001b[0m",
            "\u001b[0;32m/usr/local/lib/python3.6/dist-packages/google/colab/files.py\u001b[0m in \u001b[0;36mdownload\u001b[0;34m(filename)\u001b[0m\n\u001b[1;32m    176\u001b[0m       \u001b[0;34m'port'\u001b[0m\u001b[0;34m:\u001b[0m \u001b[0mport\u001b[0m\u001b[0;34m,\u001b[0m\u001b[0;34m\u001b[0m\u001b[0;34m\u001b[0m\u001b[0m\n\u001b[1;32m    177\u001b[0m       \u001b[0;34m'path'\u001b[0m\u001b[0;34m:\u001b[0m \u001b[0m_os\u001b[0m\u001b[0;34m.\u001b[0m\u001b[0mpath\u001b[0m\u001b[0;34m.\u001b[0m\u001b[0mabspath\u001b[0m\u001b[0;34m(\u001b[0m\u001b[0mfilename\u001b[0m\u001b[0;34m)\u001b[0m\u001b[0;34m,\u001b[0m\u001b[0;34m\u001b[0m\u001b[0;34m\u001b[0m\u001b[0m\n\u001b[0;32m--> 178\u001b[0;31m       \u001b[0;34m'name'\u001b[0m\u001b[0;34m:\u001b[0m \u001b[0m_os\u001b[0m\u001b[0;34m.\u001b[0m\u001b[0mpath\u001b[0m\u001b[0;34m.\u001b[0m\u001b[0mbasename\u001b[0m\u001b[0;34m(\u001b[0m\u001b[0mfilename\u001b[0m\u001b[0;34m)\u001b[0m\u001b[0;34m,\u001b[0m\u001b[0;34m\u001b[0m\u001b[0;34m\u001b[0m\u001b[0m\n\u001b[0m\u001b[1;32m    179\u001b[0m   })\n",
            "\u001b[0;32m/usr/local/lib/python3.6/dist-packages/google/colab/output/_js.py\u001b[0m in \u001b[0;36meval_js\u001b[0;34m(script, ignore_result)\u001b[0m\n\u001b[1;32m     37\u001b[0m   \u001b[0;32mif\u001b[0m \u001b[0mignore_result\u001b[0m\u001b[0;34m:\u001b[0m\u001b[0;34m\u001b[0m\u001b[0;34m\u001b[0m\u001b[0m\n\u001b[1;32m     38\u001b[0m     \u001b[0;32mreturn\u001b[0m\u001b[0;34m\u001b[0m\u001b[0;34m\u001b[0m\u001b[0m\n\u001b[0;32m---> 39\u001b[0;31m   \u001b[0;32mreturn\u001b[0m \u001b[0m_message\u001b[0m\u001b[0;34m.\u001b[0m\u001b[0mread_reply_from_input\u001b[0m\u001b[0;34m(\u001b[0m\u001b[0mrequest_id\u001b[0m\u001b[0;34m)\u001b[0m\u001b[0;34m\u001b[0m\u001b[0;34m\u001b[0m\u001b[0m\n\u001b[0m\u001b[1;32m     40\u001b[0m \u001b[0;34m\u001b[0m\u001b[0m\n\u001b[1;32m     41\u001b[0m \u001b[0;34m\u001b[0m\u001b[0m\n",
            "\u001b[0;32m/usr/local/lib/python3.6/dist-packages/google/colab/_message.py\u001b[0m in \u001b[0;36mread_reply_from_input\u001b[0;34m(message_id, timeout_sec)\u001b[0m\n\u001b[1;32m    104\u001b[0m         reply.get('colab_msg_id') == message_id):\n\u001b[1;32m    105\u001b[0m       \u001b[0;32mif\u001b[0m \u001b[0;34m'error'\u001b[0m \u001b[0;32min\u001b[0m \u001b[0mreply\u001b[0m\u001b[0;34m:\u001b[0m\u001b[0;34m\u001b[0m\u001b[0;34m\u001b[0m\u001b[0m\n\u001b[0;32m--> 106\u001b[0;31m         \u001b[0;32mraise\u001b[0m \u001b[0mMessageError\u001b[0m\u001b[0;34m(\u001b[0m\u001b[0mreply\u001b[0m\u001b[0;34m[\u001b[0m\u001b[0;34m'error'\u001b[0m\u001b[0;34m]\u001b[0m\u001b[0;34m)\u001b[0m\u001b[0;34m\u001b[0m\u001b[0;34m\u001b[0m\u001b[0m\n\u001b[0m\u001b[1;32m    107\u001b[0m       \u001b[0;32mreturn\u001b[0m \u001b[0mreply\u001b[0m\u001b[0;34m.\u001b[0m\u001b[0mget\u001b[0m\u001b[0;34m(\u001b[0m\u001b[0;34m'data'\u001b[0m\u001b[0;34m,\u001b[0m \u001b[0;32mNone\u001b[0m\u001b[0;34m)\u001b[0m\u001b[0;34m\u001b[0m\u001b[0;34m\u001b[0m\u001b[0m\n\u001b[1;32m    108\u001b[0m \u001b[0;34m\u001b[0m\u001b[0m\n",
            "\u001b[0;31mMessageError\u001b[0m: TypeError: Failed to fetch"
          ]
        }
      ]
    },
    {
      "cell_type": "code",
      "metadata": {
        "id": "80wkUMS-0fl3",
        "colab_type": "code",
        "colab": {}
      },
      "source": [
        "print(speechsdk.ProfanityOption)"
      ],
      "execution_count": 0,
      "outputs": []
    }
  ]
}