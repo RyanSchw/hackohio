{
  "nbformat": 4,
  "nbformat_minor": 0,
  "metadata": {
    "colab": {
      "name": "attScraper.ipynb",
      "provenance": [],
      "collapsed_sections": [],
      "include_colab_link": true
    },
    "kernelspec": {
      "name": "python3",
      "display_name": "Python 3"
    }
  },
  "cells": [
    {
      "cell_type": "markdown",
      "metadata": {
        "id": "view-in-github",
        "colab_type": "text"
      },
      "source": [
        "<a href=\"https://colab.research.google.com/github/RyanSchw/hackohio/blob/master/attScraper.ipynb\" target=\"_parent\"><img src=\"https://colab.research.google.com/assets/colab-badge.svg\" alt=\"Open In Colab\"/></a>"
      ]
    },
    {
      "cell_type": "markdown",
      "metadata": {
        "id": "IChr-XDQN8MU",
        "colab_type": "text"
      },
      "source": [
        "# Video Speech to Text Scraper"
      ]
    },
    {
      "cell_type": "markdown",
      "metadata": {
        "id": "Pmq7HfJbONKT",
        "colab_type": "text"
      },
      "source": [
        "### Generic imports"
      ]
    },
    {
      "cell_type": "code",
      "metadata": {
        "id": "viuBTrTyNiH-",
        "colab_type": "code",
        "colab": {}
      },
      "source": [
        "import time\n",
        "import wave\n",
        "import os"
      ],
      "execution_count": 0,
      "outputs": []
    },
    {
      "cell_type": "markdown",
      "metadata": {
        "id": "W_0tqijHOUtq",
        "colab_type": "text"
      },
      "source": [
        "### Azure cognitive speech import"
      ]
    },
    {
      "cell_type": "code",
      "metadata": {
        "id": "i0cwexnuOUKJ",
        "colab_type": "code",
        "outputId": "cfd4b204-9e70-4ca0-81ee-0a8c4f1bb74e",
        "colab": {
          "base_uri": "https://localhost:8080/",
          "height": 164
        }
      },
      "source": [
        "try:\n",
        "  import azure.cognitiveservices.speech as speechsdk\n",
        "except ImportError:\n",
        "  print(\"Error importing cognitive services!\")\n",
        "  print(\"Attempting to install Azure services now...\")\n",
        "  !pip install azure\n",
        "  import sys\n",
        "  sys.exit()"
      ],
      "execution_count": 0,
      "outputs": [
        {
          "output_type": "stream",
          "text": [
            "Error importing cognitive services!\n"
          ],
          "name": "stdout"
        },
        {
          "output_type": "error",
          "ename": "SystemExit",
          "evalue": "ignored",
          "traceback": [
            "An exception has occurred, use %tb to see the full traceback.\n",
            "\u001b[0;31mSystemExit\u001b[0m\n"
          ]
        },
        {
          "output_type": "stream",
          "text": [
            "/usr/local/lib/python3.6/dist-packages/IPython/core/interactiveshell.py:2890: UserWarning: To exit: use 'exit', 'quit', or Ctrl-D.\n",
            "  warn(\"To exit: use 'exit', 'quit', or Ctrl-D.\", stacklevel=1)\n"
          ],
          "name": "stderr"
        }
      ]
    },
    {
      "cell_type": "code",
      "metadata": {
        "id": "oCWA8BLtO7Xe",
        "colab_type": "code",
        "colab": {}
      },
      "source": [
        ""
      ],
      "execution_count": 0,
      "outputs": []
    }
  ]
}